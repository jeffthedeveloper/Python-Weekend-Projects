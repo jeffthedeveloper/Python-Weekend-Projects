{
 "cells": [
  {
   "cell_type": "markdown",
   "metadata": {},
   "source": [
    "# Análise de Dados da COVID-19 e Relação com Métricas de Felicidade\n",
    "\n",
    "------------------------------------------"
   ]
  },
  {
   "cell_type": "markdown",
   "metadata": {},
   "source": [
    "### 1. Importação de Módulos e Configuração Inicial\n"
   ]
  },
  {
   "cell_type": "markdown",
   "metadata": {},
   "source": [
    "# 1.1 Importação de Módulos Necessários\n"
   ]
  },
  {
   "cell_type": "code",
   "execution_count": null,
   "metadata": {},
   "outputs": [],
   "source": [
    "import pandas as pd\n",
    "import numpy as np\n",
    "import seaborn as sns\n",
    "import matplotlib.pyplot as plt\n",
    "\n",
    "print('Módulos importados com sucesso.')"
   ]
  },
  {
   "cell_type": "markdown",
   "metadata": {},
   "source": [
    "## 2. Importação e Preparação dos Dados da COVID-19\n"
   ]
  },
  {
   "cell_type": "markdown",
   "metadata": {},
   "source": [
    "### 2.1 Importação dos Datasets de Casos e Mortes\n",
    "\n",
    "importing \"Covid19_Confirmed_dataset.csv\" from \"./Dataset\" folder. \n"
   ]
  },
  {
   "cell_type": "code",
   "execution_count": null,
   "metadata": {},
   "outputs": [],
   "source": [
    "# Importando os datasets de casos confirmados e mortes por COVID-19\n",
    "corona_dataset = pd.read_csv(\"./Dataset/Covid19_Confirmed_dataset.csv\")\n",
    "deaths_dataset = pd.read_csv(\"covid19_deaths_dataset.csv\")"
   ]
  },
  {
   "cell_type": "markdown",
   "metadata": {},
   "source": [
    "#### Let's check the shape of the dataframe"
   ]
  },
  {
   "cell_type": "markdown",
   "metadata": {},
   "source": [
    "### 2.2 Verificação da Estrutura dos Datasets\n"
   ]
  },
  {
   "cell_type": "code",
   "execution_count": null,
   "metadata": {},
   "outputs": [],
   "source": [
    "print(\"Formato do Dataset de Casos Confirmados:\")\n",
    "print(corona_dataset.shape)\n",
    "print(\"Formato do Dataset de Mortes:\")\n",
    "print(deaths_dataset.shape)"
   ]
  },
  {
   "cell_type": "markdown",
   "metadata": {},
   "source": [
    "### 2.3 Remoção de Colunas Desnecessárias\n"
   ]
  },
  {
   "cell_type": "code",
   "execution_count": null,
   "metadata": {},
   "outputs": [],
   "source": [
    "# Removendo colunas de latitude e longitude, que não são necessárias para a análise\n",
    "corona_dataset.drop(columns=[\"Lat\", \"Long\"], inplace=True)\n",
    "deaths_dataset.drop(columns=[\"Lat\", \"Long\"], inplace=True)\n",
    "\n",
    "print(\"Cabeçalho do Dataset de Casos Confirmados:\")\n",
    "print(corona_dataset.head().to_markdown(numalign=\"left\", stralign=\"left\"))\n",
    "print(\"Cabeçalho do Dataset de Mortes:\")\n",
    "print(deaths_dataset.head().to_markdown(numalign=\"left\", stralign=\"left\"))"
   ]
  },
  {
   "cell_type": "markdown",
   "metadata": {},
   "source": [
    "###  2.4 Agregação dos Dados por País"
   ]
  },
  {
   "cell_type": "code",
   "execution_count": null,
   "metadata": {},
   "outputs": [],
   "source": [
    "# Agrupando os dados por país e somando os valores\n",
    "corona_dataset_aggregated = corona_dataset.groupby(\"Country/Region\").sum()\n",
    "deaths_dataset_aggregated = deaths_dataset.groupby(\"Country/Region\").sum()\n",
    "\n",
    "print(\"Dataset de Casos Confirmados Agregado:\")\n",
    "print(corona_dataset_aggregated.head().to_markdown(numalign=\"left\", stralign=\"left\"))\n",
    "print(\"Dataset de Mortes Agregado:\")\n",
    "print(deaths_dataset_aggregated.head().to_markdown(numalign=\"left\", stralign=\"left\"))"
   ]
  },
  {
   "cell_type": "markdown",
   "metadata": {},
   "source": [
    "### Task 2.5: Visualizing data related to a country for example China\n",
    "visualization always helps for better understanding of our data."
   ]
  },
  {
   "cell_type": "code",
   "execution_count": null,
   "metadata": {},
   "outputs": [],
   "source": [
    "# Visualizando a evolução dos casos de COVID-19 na China\n",
    "corona_dataset_aggregated.loc['China'].plot()\n",
    "plt.title(\"Casos de COVID-19 ao Longo do Tempo na China\")\n",
    "plt.xlabel(\"Dias\")\n",
    "plt.ylabel(\"Número de Casos\")\n",
    "plt.show()"
   ]
  },
  {
   "cell_type": "markdown",
   "metadata": {},
   "source": [
    "### Task3: 3. Cálculo de Métricas Relevantes\n",
    "\n",
    "precisamos encontrar uma boa medida representada como um número, descrevendo a disseminação do vírus em um país. "
   ]
  },
  {
   "cell_type": "markdown",
   "metadata": {},
   "source": [
    "### task 3.1:Cálculo da Taxa de Infecção Diária (Primeira Derivada)"
   ]
  },
  {
   "cell_type": "code",
   "execution_count": null,
   "metadata": {},
   "outputs": [],
   "source": [
    "# Calculando a taxa de infecção diária (diferença entre os dias)\n",
    "corona_dataset_aggregated_diff = corona_dataset_aggregated.diff(axis=1)\n",
    "deaths_dataset_aggregated_diff = deaths_dataset.diff(axis=1)\n",
    "\n",
    "print(\"Dataset de Casos Confirmados com Diferença Diária:\")\n",
    "print(corona_dataset_aggregated_diff.head().to_markdown(numalign=\"left\", stralign=\"left\"))\n",
    "print(\"Dataset de Mortes com Diferença Diária:\")\n",
    "print(deaths_dataset_aggregated_diff.head().to_markdown(numalign=\"left\", stralign=\"left\"))"
   ]
  },
  {
   "cell_type": "markdown",
   "metadata": {},
   "source": [
    "### task 3.2: Identificação da Taxa Máxima de Infecção e Mortes por País"
   ]
  },
  {
   "cell_type": "code",
   "execution_count": null,
   "metadata": {},
   "outputs": [],
   "source": [
    "# Calculando a taxa de infecção diária (diferença entre os dias)\n",
    "corona_dataset_aggregated_diff = corona_dataset_aggregated.diff(axis=1)\n",
    "deaths_dataset_aggregated_diff = deaths_dataset.diff(axis=1)\n",
    "\n",
    "print(\"Dataset de Casos Confirmados com Diferença Diária:\")\n",
    "print(corona_dataset_aggregated_diff.head().to_markdown(numalign=\"left\", stralign=\"left\"))\n",
    "print(\"Dataset de Mortes com Diferença Diária:\")\n",
    "print(deaths_dataset_aggregated_diff.head().to_markdown(numalign=\"left\", stralign=\"left\"))"
   ]
  },
  {
   "cell_type": "markdown",
   "metadata": {},
   "source": [
    "### Task 3.3: Criação de DataFrames com as Taxas Máximas"
   ]
  },
  {
   "cell_type": "code",
   "execution_count": null,
   "metadata": {},
   "outputs": [],
   "source": [
    "# Criando DataFrames separados para as taxas máximas de infecção e mortes\n",
    "max_infection_rates_df = pd.DataFrame(max_infection_rates, columns=[\"Max Infection Rate\"])\n",
    "max_death_rates_df = pd.DataFrame(max_death_rates, columns=[\"Max Death Rate\"])\n",
    "\n",
    "print(\"DataFrame de Taxas Máximas de Infecção:\")\n",
    "print(max_infection_rates_df.head().to_markdown(numalign=\"left\", stralign=\"left\"))\n",
    "print(\"DataFrame de Taxas Máximas de Mortes:\")\n",
    "print(max_death_rates_df.head().to_markdown(numalign=\"left\", stralign=\"left\"))"
   ]
  },
  {
   "cell_type": "markdown",
   "metadata": {},
   "source": [
    "### Task 3.4: create a new dataframe with only needed column "
   ]
  },
  {
   "cell_type": "code",
   "execution_count": null,
   "metadata": {},
   "outputs": [],
   "source": [
    "# Criando DataFrames separados para as taxas máximas de infecção e mortes\n",
    "max_infection_rates_df = pd.DataFrame(max_infection_rates, columns=[\"Max Infection Rate\"])\n",
    "max_death_rates_df = pd.DataFrame(max_death_rates, columns=[\"Max Death Rate\"])\n",
    "\n",
    "print(\"DataFrame de Taxas Máximas de Infecção:\")\n",
    "print(max_infection_rates_df.head().to_markdown(numalign=\"left\", stralign=\"left\"))\n",
    "print(\"DataFrame de Taxas Máximas de Mortes:\")\n",
    "print(max_death_rates_df.head().to_markdown(numalign=\"left\", stralign=\"left\"))"
   ]
  },
  {
   "cell_type": "markdown",
   "metadata": {},
   "source": [
    "### Task4: Importação e Preparação do Dataset de Felicidade Global\n",
    "- Importando o dataset WorldHappinessReport.csv  \n",
    "- Selecionando as colunas necessárias para nossa análise  \n",
    "- Unindo os datasets  \n",
    "- Calculando as correlações como resultado da nossa análise  "
   ]
  },
  {
   "cell_type": "markdown",
   "metadata": {},
   "source": [
    "### Task 4.1 : Importação do Dataset de Felicidade"
   ]
  },
  {
   "cell_type": "code",
   "execution_count": null,
   "metadata": {},
   "outputs": [],
   "source": [
    "# Importando o dataset de felicidade global\n",
    "happiness_report = pd.read_csv(\"./Dataset/worldwide_happiness_report.csv\")\n",
    "\n",
    "print(\"Cabeçalho do Dataset de Felicidade:\")\n",
    "print(happiness_report.head().to_markdown(numalign=\"left\", stralign=\"left\"))"
   ]
  },
  {
   "cell_type": "markdown",
   "metadata": {},
   "source": [
    "### Task 4.2: Limpeza e Seleção de Colunas Relevantes"
   ]
  },
  {
   "cell_type": "code",
   "execution_count": null,
   "metadata": {},
   "outputs": [],
   "source": [
    "# Mantendo apenas as colunas relevantes para a análise\n",
    "happiness_report_cleaned = happiness_report[[\"Country or region\", \"Score\", \"GDP per capita\",\n",
    "                                             \"Social support\", \"Healthy life expectancy\",\n",
    "                                             \"Freedom to make life choices\"]]\n",
    "\n",
    "print(\"Dataset de Felicidade Limpo:\")\n",
    "print(happiness_report_cleaned.head().to_markdown(numalign=\"left\", stralign=\"left\"))"
   ]
  },
  {
   "cell_type": "markdown",
   "metadata": {},
   "source": [
    "### Task 4.3: Ajuste dos Índices do DataFrame"
   ]
  },
  {
   "cell_type": "code",
   "execution_count": null,
   "metadata": {},
   "outputs": [],
   "source": [
    "# Definindo a coluna \"Country or region\" como índice\n",
    "happiness_report_cleaned.set_index(\"Country or region\", inplace=True)\n",
    "\n",
    "print(\"Dataset de Felicidade com Índice Ajustado:\")\n",
    "print(happiness_report_cleaned.head().to_markdown(numalign=\"left\", stralign=\"left\"))"
   ]
  },
  {
   "cell_type": "markdown",
   "metadata": {},
   "source": [
    "### Task4.4: now let's join two dataset we have prepared  "
   ]
  },
  {
   "cell_type": "markdown",
   "metadata": {},
   "source": [
    "#### Corona Dataset :"
   ]
  },
  {
   "cell_type": "code",
   "execution_count": null,
   "metadata": {},
   "outputs": [],
   "source": []
  },
  {
   "cell_type": "markdown",
   "metadata": {},
   "source": [
    "#### wolrd happiness report Dataset :"
   ]
  },
  {
   "cell_type": "code",
   "execution_count": null,
   "metadata": {},
   "outputs": [],
   "source": []
  },
  {
   "cell_type": "code",
   "execution_count": null,
   "metadata": {},
   "outputs": [],
   "source": []
  },
  {
   "cell_type": "markdown",
   "metadata": {},
   "source": [
    "### Task 4.5: correlation matrix "
   ]
  },
  {
   "cell_type": "code",
   "execution_count": null,
   "metadata": {},
   "outputs": [],
   "source": []
  },
  {
   "cell_type": "markdown",
   "metadata": {},
   "source": [
    "### Task 5: Visualization of the results\n",
    "our Analysis is not finished unless we visualize the results in terms figures and graphs so that everyone can understand what you get out of our analysis"
   ]
  },
  {
   "cell_type": "code",
   "execution_count": null,
   "metadata": {},
   "outputs": [],
   "source": []
  },
  {
   "cell_type": "markdown",
   "metadata": {},
   "source": [
    "### Task 5.1: Plotting GDP vs maximum Infection rate"
   ]
  },
  {
   "cell_type": "code",
   "execution_count": null,
   "metadata": {},
   "outputs": [],
   "source": []
  },
  {
   "cell_type": "code",
   "execution_count": null,
   "metadata": {},
   "outputs": [],
   "source": []
  },
  {
   "cell_type": "markdown",
   "metadata": {},
   "source": [
    "### Task 5.2: Plotting Social support vs maximum Infection rate"
   ]
  },
  {
   "cell_type": "code",
   "execution_count": null,
   "metadata": {},
   "outputs": [],
   "source": []
  },
  {
   "cell_type": "code",
   "execution_count": null,
   "metadata": {},
   "outputs": [],
   "source": []
  },
  {
   "cell_type": "markdown",
   "metadata": {},
   "source": [
    "### Task 5.3: Plotting Healthy life expectancy vs maximum Infection rate"
   ]
  },
  {
   "cell_type": "code",
   "execution_count": null,
   "metadata": {},
   "outputs": [],
   "source": []
  },
  {
   "cell_type": "code",
   "execution_count": null,
   "metadata": {},
   "outputs": [],
   "source": []
  },
  {
   "cell_type": "markdown",
   "metadata": {},
   "source": [
    "### Task 5.4: Plotting Freedom to make life choices vs maximum Infection rate"
   ]
  },
  {
   "cell_type": "code",
   "execution_count": null,
   "metadata": {},
   "outputs": [],
   "source": []
  },
  {
   "cell_type": "code",
   "execution_count": null,
   "metadata": {},
   "outputs": [],
   "source": []
  }
 ],
 "metadata": {
  "kernelspec": {
   "display_name": "Python 3",
   "language": "python",
   "name": "python3"
  },
  "language_info": {
   "codemirror_mode": {
    "name": "ipython",
    "version": 3
   },
   "file_extension": ".py",
   "mimetype": "text/x-python",
   "name": "python",
   "nbconvert_exporter": "python",
   "pygments_lexer": "ipython3",
   "version": "3.8.2"
  }
 },
 "nbformat": 4,
 "nbformat_minor": 2
}
