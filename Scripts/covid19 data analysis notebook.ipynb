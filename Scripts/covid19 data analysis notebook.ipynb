{
 "cells": [
  {
   "cell_type": "markdown",
   "metadata": {},
   "source": [
    "# Análise de Dados da COVID-19 e Relação com Métricas de Felicidade\n",
    "\n",
    "------------------------------------------"
   ]
  },
  {
   "cell_type": "markdown",
   "metadata": {},
   "source": [
    "### 1. Importação de Módulos e Configuração Inicial\n"
   ]
  },
  {
   "cell_type": "markdown",
   "metadata": {},
   "source": [
    "# 1.1 Importação de Módulos Necessários\n"
   ]
  },
  {
   "cell_type": "code",
   "execution_count": null,
   "metadata": {},
   "outputs": [],
   "source": [
    "import pandas as pd\n",
    "import numpy as np\n",
    "import seaborn as sns\n",
    "import matplotlib.pyplot as plt\n",
    "\n",
    "print('Módulos importados com sucesso.')"
   ]
  },
  {
   "cell_type": "markdown",
   "metadata": {},
   "source": [
    "## 2. Importação e Preparação dos Dados da COVID-19\n"
   ]
  },
  {
   "cell_type": "markdown",
   "metadata": {},
   "source": [
    "### 2.1 Importação dos Datasets de Casos e Mortes\n",
    "\n",
    "importing \"Covid19_Confirmed_dataset.csv\" from \"./Dataset\" folder. \n"
   ]
  },
  {
   "cell_type": "code",
   "execution_count": null,
   "metadata": {},
   "outputs": [],
   "source": [
    "# Importando os datasets de casos confirmados e mortes por COVID-19\n",
    "corona_dataset = pd.read_csv(\"./Dataset/Covid19_Confirmed_dataset.csv\")\n",
    "deaths_dataset = pd.read_csv(\"covid19_deaths_dataset.csv\")"
   ]
  },
  {
   "cell_type": "markdown",
   "metadata": {},
   "source": [
    "#### Vamos verificar o formato do dataframe"
   ]
  },
  {
   "cell_type": "markdown",
   "metadata": {},
   "source": [
    "### 2.2 Verificação da Estrutura dos Datasets\n"
   ]
  },
  {
   "cell_type": "code",
   "execution_count": null,
   "metadata": {},
   "outputs": [],
   "source": [
    "print(\"Formato do Dataset de Casos Confirmados:\")\n",
    "print(corona_dataset.shape)\n",
    "print(\"Formato do Dataset de Mortes:\")\n",
    "print(deaths_dataset.shape)"
   ]
  },
  {
   "cell_type": "markdown",
   "metadata": {},
   "source": [
    "### 2.3 Remoção de Colunas Desnecessárias\n"
   ]
  },
  {
   "cell_type": "code",
   "execution_count": null,
   "metadata": {},
   "outputs": [],
   "source": [
    "# Removendo colunas de latitude e longitude, que não são necessárias para a análise\n",
    "corona_dataset.drop(columns=[\"Lat\", \"Long\"], inplace=True)\n",
    "deaths_dataset.drop(columns=[\"Lat\", \"Long\"], inplace=True)\n",
    "\n",
    "print(\"Cabeçalho do Dataset de Casos Confirmados:\")\n",
    "print(corona_dataset.head().to_markdown(numalign=\"left\", stralign=\"left\"))\n",
    "print(\"Cabeçalho do Dataset de Mortes:\")\n",
    "print(deaths_dataset.head().to_markdown(numalign=\"left\", stralign=\"left\"))"
   ]
  },
  {
   "cell_type": "markdown",
   "metadata": {},
   "source": [
    "###  2.4 Agregação dos Dados por País"
   ]
  },
  {
   "cell_type": "code",
   "execution_count": null,
   "metadata": {},
   "outputs": [],
   "source": [
    "# Agrupando os dados por país e somando os valores\n",
    "corona_dataset_aggregated = corona_dataset.groupby(\"Country/Region\").sum()\n",
    "deaths_dataset_aggregated = deaths_dataset.groupby(\"Country/Region\").sum()\n",
    "\n",
    "print(\"Dataset de Casos Confirmados Agregado:\")\n",
    "print(corona_dataset_aggregated.head().to_markdown(numalign=\"left\", stralign=\"left\"))\n",
    "print(\"Dataset de Mortes Agregado:\")\n",
    "print(deaths_dataset_aggregated.head().to_markdown(numalign=\"left\", stralign=\"left\"))"
   ]
  },
  {
   "cell_type": "markdown",
   "metadata": {},
   "source": [
    "### 2.4.1 - Normalização dos Dados\n",
    "\n",
    "Para tornar as taxas de infecção e mortes comparáveis entre países normalizamos os dados pela população de cada país.\n"
   ]
  },
  {
   "cell_type": "code",
   "execution_count": null,
   "metadata": {},
   "outputs": [],
   "source": [
    "# Importar dataset de população\n",
    "population_dataset = pd.read_csv(\"./Dataset/population.csv\")\n",
    "\n",
    "# Normalizar as taxas de infecção e mortes pela população\n",
    "corona_dataset_aggregated_normalized = corona_dataset_aggregated.div(population_dataset[\"Population\"], axis=0)\n",
    "deaths_dataset_aggregated_normalized = deaths_dataset_aggregated.div(population_dataset[\"Population\"], axis=0)"
   ]
  },
  {
   "cell_type": "markdown",
   "metadata": {},
   "source": [
    "### Tarefa 2.5: Visualizando dados relacionados a um país, por exemplo, China\n",
    "A visualização sempre ajuda a entender melhor nossos dados."
   ]
  },
  {
   "cell_type": "code",
   "execution_count": null,
   "metadata": {},
   "outputs": [],
   "source": [
    "# Visualizando a evolução dos casos de COVID-19 na China\n",
    "corona_dataset_aggregated.loc['China'].plot()\n",
    "plt.title(\"Casos de COVID-19 ao Longo do Tempo na China\")\n",
    "plt.xlabel(\"Dias\")\n",
    "plt.ylabel(\"Número de Casos\")\n",
    "plt.show()"
   ]
  },
  {
   "cell_type": "markdown",
   "metadata": {},
   "source": [
    "### 2.5.1 - Análise de Países Específicos\n",
    "\n",
    "Comparando a evolução da COVID-19 em países específicos, como Brasil, EUA e Índia."
   ]
  },
  {
   "cell_type": "code",
   "execution_count": null,
   "metadata": {},
   "outputs": [],
   "source": [
    "# Comparação entre Brasil, EUA e Índia\n",
    "countries_to_compare = [\"Brazil\", \"US\", \"India\"]\n",
    "for country in countries_to_compare:\n",
    "    corona_dataset_aggregated.loc[country].plot(label=country)\n",
    "plt.title(\"Comparação de Casos de COVID-19 entre Brasil, EUA e Índia\")\n",
    "plt.xlabel(\"Dias\")\n",
    "plt.ylabel(\"Número de Casos\")\n",
    "plt.legend()\n",
    "plt.show()"
   ]
  },
  {
   "cell_type": "markdown",
   "metadata": {},
   "source": [
    "### Task 3: Cálculo de Métricas Relevantes\n",
    "\n",
    "precisamos encontrar uma boa medida representada como um número, descrevendo a disseminação do vírus em um país. "
   ]
  },
  {
   "cell_type": "markdown",
   "metadata": {},
   "source": [
    "### task 3.1:Cálculo da Taxa de Infecção Diária (Primeira Derivada)"
   ]
  },
  {
   "cell_type": "code",
   "execution_count": null,
   "metadata": {},
   "outputs": [],
   "source": [
    "# Calculando a taxa de infecção diária (diferença entre os dias)\n",
    "corona_dataset_aggregated_diff = corona_dataset_aggregated.diff(axis=1)\n",
    "deaths_dataset_aggregated_diff = deaths_dataset.diff(axis=1)\n",
    "\n",
    "print(\"Dataset de Casos Confirmados com Diferença Diária:\")\n",
    "print(corona_dataset_aggregated_diff.head().to_markdown(numalign=\"left\", stralign=\"left\"))\n",
    "print(\"Dataset de Mortes com Diferença Diária:\")\n",
    "print(deaths_dataset_aggregated_diff.head().to_markdown(numalign=\"left\", stralign=\"left\"))"
   ]
  },
  {
   "cell_type": "markdown",
   "metadata": {},
   "source": [
    "### task 3.2: Identificação da Taxa Máxima de Infecção e Mortes por País"
   ]
  },
  {
   "cell_type": "code",
   "execution_count": null,
   "metadata": {},
   "outputs": [],
   "source": [
    "# Calculando a taxa de infecção diária (diferença entre os dias)\n",
    "corona_dataset_aggregated_diff = corona_dataset_aggregated.diff(axis=1)\n",
    "deaths_dataset_aggregated_diff = deaths_dataset.diff(axis=1)\n",
    "\n",
    "print(\"Dataset de Casos Confirmados com Diferença Diária:\")\n",
    "print(corona_dataset_aggregated_diff.head().to_markdown(numalign=\"left\", stralign=\"left\"))\n",
    "print(\"Dataset de Mortes com Diferença Diária:\")\n",
    "print(deaths_dataset_aggregated_diff.head().to_markdown(numalign=\"left\", stralign=\"left\"))"
   ]
  },
  {
   "cell_type": "markdown",
   "metadata": {},
   "source": [
    "### Task 3.3: Criação de DataFrames com as Taxas Máximas"
   ]
  },
  {
   "cell_type": "code",
   "execution_count": null,
   "metadata": {},
   "outputs": [],
   "source": [
    "# Criando DataFrames separados para as taxas máximas de infecção e mortes\n",
    "max_infection_rates_df = pd.DataFrame(max_infection_rates, columns=[\"Max Infection Rate\"])\n",
    "max_death_rates_df = pd.DataFrame(max_death_rates, columns=[\"Max Death Rate\"])\n",
    "\n",
    "print(\"DataFrame de Taxas Máximas de Infecção:\")\n",
    "print(max_infection_rates_df.head().to_markdown(numalign=\"left\", stralign=\"left\"))\n",
    "print(\"DataFrame de Taxas Máximas de Mortes:\")\n",
    "print(max_death_rates_df.head().to_markdown(numalign=\"left\", stralign=\"left\"))"
   ]
  },
  {
   "cell_type": "markdown",
   "metadata": {},
   "source": [
    "### Task 3.4: create a new dataframe with only needed column "
   ]
  },
  {
   "cell_type": "code",
   "execution_count": null,
   "metadata": {},
   "outputs": [],
   "source": [
    "# Criando DataFrames separados para as taxas máximas de infecção e mortes\n",
    "max_infection_rates_df = pd.DataFrame(max_infection_rates, columns=[\"Max Infection Rate\"])\n",
    "max_death_rates_df = pd.DataFrame(max_death_rates, columns=[\"Max Death Rate\"])\n",
    "\n",
    "print(\"DataFrame de Taxas Máximas de Infecção:\")\n",
    "print(max_infection_rates_df.head().to_markdown(numalign=\"left\", stralign=\"left\"))\n",
    "print(\"DataFrame de Taxas Máximas de Mortes:\")\n",
    "print(max_death_rates_df.head().to_markdown(numalign=\"left\", stralign=\"left\"))"
   ]
  },
  {
   "cell_type": "markdown",
   "metadata": {},
   "source": [
    "### 3.5.1 - Análise de Mortalidade\n",
    "\n",
    "Calcule a taxa de mortalidade (mortes / casos confirmados) para cada país e adicione essa métrica ao dataset combinado.\n"
   ]
  },
  {
   "cell_type": "code",
   "execution_count": null,
   "metadata": {},
   "outputs": [],
   "source": [
    "\n",
    "\n",
    "# Calcular taxa de mortalidade\n",
    "mortality_rate = deaths_dataset_aggregated / corona_dataset_aggregated\n",
    "mortality_rate.replace([np.inf, -np.inf], np.nan, inplace=True)  # Tratar divisões por zero\n",
    "\n",
    "# Adicionar ao dataset combinado\n",
    "\n",
    "combined_infection_dataset[\"Mortality Rate\"] = mortality_rate.max(axis=1)\n"
   ]
  },
  {
   "cell_type": "markdown",
   "metadata": {},
   "source": [
    "### 3.5.2 - Análise de Outliers\n",
    "Identifique outliers nas taxas de infecção e mortes usando boxplots.\n"
   ]
  },
  {
   "cell_type": "code",
   "execution_count": null,
   "metadata": {},
   "outputs": [],
   "source": [
    "# Boxplot para taxas de infecção\n",
    "plt.figure(figsize=(10, 6))\n",
    "sns.boxplot(x=max_infection_rates)\n",
    "plt.title(\"Boxplot das Taxas Máximas de Infecção\")\n",
    "plt.xlabel(\"Taxa de Infecção\")\n",
    "plt.show()\n",
    "\n",
    "# Boxplot para taxas de mortalidade\n",
    "plt.figure(figsize=(10, 6))\n",
    "sns.boxplot(x=combined_infection_dataset[\"Mortality Rate\"].dropna())\n",
    "plt.title(\"Boxplot das Taxas de Mortalidade\")\n",
    "plt.xlabel(\"Taxa de Mortalidade\")\n",
    "plt.show()\n"
   ]
  },
  {
   "cell_type": "markdown",
   "metadata": {},
   "source": [
    "### 3.5.3 - Análise Temporal\n",
    "Analise a evolução temporal das taxas de infecção e mortes em um país específico, como o Brasil.\n",
    "\n"
   ]
  },
  {
   "cell_type": "code",
   "execution_count": null,
   "metadata": {},
   "outputs": [],
   "source": [
    "# Evolução temporal no Brasil\n",
    "corona_dataset_aggregated.loc[\"Brazil\"].diff().plot()\n",
    "plt.title(\"Evolução Diária de Casos de COVID-19 no Brasil\")\n",
    "plt.xlabel(\"Dias\")\n",
    "plt.ylabel(\"Novos Casos\")\n",
    "plt.show()"
   ]
  },
  {
   "cell_type": "markdown",
   "metadata": {},
   "source": [
    "### Task 4: Importação e Preparação do Dataset de Felicidade Global\n",
    "- Importando o dataset WorldHappinessReport.csv  \n",
    "- Selecionando as colunas necessárias para nossa análise  \n",
    "- Unindo os datasets  \n",
    "- Calculando as correlações como resultado da nossa análise  "
   ]
  },
  {
   "cell_type": "markdown",
   "metadata": {},
   "source": [
    "### Task 4.1 : Importação do Dataset de Felicidade"
   ]
  },
  {
   "cell_type": "code",
   "execution_count": null,
   "metadata": {},
   "outputs": [],
   "source": [
    "# Importando o dataset de felicidade global\n",
    "happiness_report = pd.read_csv(\"./Dataset/worldwide_happiness_report.csv\")\n",
    "\n",
    "print(\"Cabeçalho do Dataset de Felicidade:\")\n",
    "print(happiness_report.head().to_markdown(numalign=\"left\", stralign=\"left\"))"
   ]
  },
  {
   "cell_type": "markdown",
   "metadata": {},
   "source": [
    "### Task 4.2: Limpeza e Seleção de Colunas Relevantes"
   ]
  },
  {
   "cell_type": "code",
   "execution_count": null,
   "metadata": {},
   "outputs": [],
   "source": [
    "# Mantendo apenas as colunas relevantes para a análise\n",
    "happiness_report_cleaned = happiness_report[[\"Country or region\", \"Score\", \"GDP per capita\",\n",
    "                                             \"Social support\", \"Healthy life expectancy\",\n",
    "                                             \"Freedom to make life choices\"]]\n",
    "\n",
    "print(\"Dataset de Felicidade Limpo:\")\n",
    "print(happiness_report_cleaned.head().to_markdown(numalign=\"left\", stralign=\"left\"))"
   ]
  },
  {
   "cell_type": "markdown",
   "metadata": {},
   "source": [
    "### Task 4.3: Ajuste dos Índices do DataFrame"
   ]
  },
  {
   "cell_type": "code",
   "execution_count": null,
   "metadata": {},
   "outputs": [],
   "source": [
    "# Definindo a coluna \"Country or region\" como índice\n",
    "happiness_report_cleaned.set_index(\"Country or region\", inplace=True)\n",
    "\n",
    "print(\"Dataset de Felicidade com Índice Ajustado:\")\n",
    "print(happiness_report_cleaned.head().to_markdown(numalign=\"left\", stralign=\"left\"))"
   ]
  },
  {
   "cell_type": "markdown",
   "metadata": {},
   "source": [
    "### Task 4.4: Junção dos Datasets de COVID-19 e Felicidade"
   ]
  },
  {
   "cell_type": "code",
   "execution_count": null,
   "metadata": {},
   "outputs": [],
   "source": [
    "# Combinando os datasets de COVID-19 e felicidade\n",
    "combined_infection_dataset = max_infection_rates_df.join(happiness_report_cleaned, how=\"inner\")\n",
    "combined_death_dataset = max_death_rates_df.join(happiness_report_cleaned, how=\"inner\")\n",
    "\n",
    "print(\"Dataset Combinado (Infecção e Felicidade):\")\n",
    "print(combined_infection_dataset.head().to_markdown(numalign=\"left\", stralign=\"left\"))\n",
    "print(\"Dataset Combinado (Mortes e Felicidade):\")\n",
    "print(combined_death_dataset.head().to_markdown(numalign=\"left\", stralign=\"left\"))"
   ]
  },
  {
   "cell_type": "markdown",
   "metadata": {},
   "source": [
    "### Task 4.5: Cálculo da Matriz de Correlação"
   ]
  },
  {
   "cell_type": "code",
   "execution_count": null,
   "metadata": {},
   "outputs": [],
   "source": [
    "# Calculando a matriz de correlação entre as variáveis\n",
    "correlation_infection_matrix = combined_infection_dataset.corr()\n",
    "correlation_death_matrix = combined_death_dataset.corr()\n",
    "\n",
    "print(\"Matriz de Correlação (Infecção):\")\n",
    "print(correlation_infection_matrix.to_markdown(numalign=\"left\", stralign=\"left\"))\n",
    "print(\"Matriz de Correlação (Mortes):\")\n",
    "print(correlation_death_matrix.to_markdown(numalign=\"left\", stralign=\"left\"))"
   ]
  },
  {
   "cell_type": "markdown",
   "metadata": {},
   "source": [
    "### 4.6.1 - Heatmap de Correlação\n",
    "Crie um heatmap para visualizar a matriz de correlação de forma mais intuitiva.\n"
   ]
  },
  {
   "cell_type": "code",
   "execution_count": null,
   "metadata": {},
   "outputs": [],
   "source": [
    "# Heatmap da matriz de correlação\n",
    "plt.figure(figsize=(10, 6))\n",
    "sns.heatmap(correlation_infection_matrix, annot=True, cmap=\"coolwarm\", fmt=\".2f\")\n",
    "plt.title(\"Heatmap de Correlação (Infecção)\")\n",
    "plt.show()\n"
   ]
  },
  {
   "cell_type": "markdown",
   "metadata": {},
   "source": [
    "### 4.6.2 - Dados de Vacinação (Novo Dataset)\n",
    "Inclua dados de vacinação para enriquecer a análise.\n"
   ]
  },
  {
   "cell_type": "code",
   "execution_count": null,
   "metadata": {},
   "outputs": [],
   "source": [
    "# Importar dataset de vacinação\n",
    "vaccination_dataset = pd.read_csv(\"./Dataset/vaccination.csv\")\n",
    "\n",
    "# Juntar com o dataset combinado\n",
    "combined_infection_dataset = combined_infection_dataset.join(vaccination_dataset, how=\"left\")\n",
    "combined_death_dataset = combined_death_dataset.join(vaccination_dataset, how=\"left\")\n"
   ]
  },
  {
   "cell_type": "markdown",
   "metadata": {},
   "source": [
    "### 4.6.3 - Dados Socioeconômicos (Novo Dataset)\n",
    "Inclua dados socioeconômicos, como desigualdade de renda e acesso à saúde.\n"
   ]
  },
  {
   "cell_type": "code",
   "execution_count": null,
   "metadata": {},
   "outputs": [],
   "source": [
    "\n",
    "# Importar dataset socioeconômico\n",
    "socioeconomic_dataset = pd.read_csv(\"./Dataset/socioeconomic.csv\")\n",
    "\n",
    "# Juntar com o dataset combinado\n",
    "combined_infection_dataset = combined_infection_dataset.join(socioeconomic_dataset, how=\"left\")\n",
    "combined_death_dataset = combined_death_dataset.join(socioeconomic_dataset, how=\"left\")"
   ]
  },
  {
   "cell_type": "markdown",
   "metadata": {},
   "source": [
    "### Task 5: Visualização dos Resultados\n",
    "nossa análise não está concluída, a menos que visualizemos os resultados em termos de figuras e gráficos, para que todos possam entender o que obtivemos com nossa análise"
   ]
  },
  {
   "cell_type": "markdown",
   "metadata": {},
   "source": [
    "### Task 5.1: Relação entre PIB per Capita e Taxa Máxima de Infecção"
   ]
  },
  {
   "cell_type": "code",
   "execution_count": null,
   "metadata": {},
   "outputs": [],
   "source": [
    "sns.scatterplot(x=combined_infection_dataset[\"GDP per capita\"],\n",
    "                y=combined_infection_dataset[\"Max Infection Rate\"])\n",
    "plt.title(\"PIB per Capita vs Taxa Máxima de Infecção\")\n",
    "plt.xlabel(\"PIB per Capita\")\n",
    "plt.ylabel(\"Taxa Máxima de Infecção\")\n",
    "plt.show()"
   ]
  },
  {
   "cell_type": "markdown",
   "metadata": {},
   "source": [
    "### Task 5.2: Relação entre Suporte Social e Taxa Máxima de Infecção"
   ]
  },
  {
   "cell_type": "code",
   "execution_count": null,
   "metadata": {},
   "outputs": [],
   "source": [
    "sns.scatterplot(x=combined_infection_dataset[\"Social support\"],\n",
    "                y=combined_infection_dataset[\"Max Infection Rate\"])\n",
    "plt.title(\"Suporte Social vs Taxa Máxima de Infecção\")\n",
    "plt.xlabel(\"Suporte Social\")\n",
    "plt.ylabel(\"Taxa Máxima de Infecção\")\n",
    "plt.show()"
   ]
  },
  {
   "cell_type": "markdown",
   "metadata": {},
   "source": [
    "### Task 5.3: Relação entre Expectativa de Vida Saudável e Taxa Máxima de Infecção"
   ]
  },
  {
   "cell_type": "code",
   "execution_count": null,
   "metadata": {},
   "outputs": [],
   "source": [
    "sns.scatterplot(x=combined_infection_dataset[\"Healthy life expectancy\"],\n",
    "                y=combined_infection_dataset[\"Max Infection Rate\"])\n",
    "plt.title(\"Expectativa de Vida Saudável vs Taxa Máxima de Infecção\")\n",
    "plt.xlabel(\"Expectativa de Vida Saudável\")\n",
    "plt.ylabel(\"Taxa Máxima de Infecção\")\n",
    "plt.show()"
   ]
  },
  {
   "cell_type": "markdown",
   "metadata": {},
   "source": [
    "### Task 5.4: Relação entre Liberdade de Escolha e Taxa Máxima de Infecção"
   ]
  },
  {
   "cell_type": "code",
   "execution_count": null,
   "metadata": {},
   "outputs": [],
   "source": [
    "sns.scatterplot(x=combined_infection_dataset[\"Freedom to make life choices\"],\n",
    "                y=combined_infection_dataset[\"Max Infection Rate\"])\n",
    "plt.title(\"Liberdade de Escolha vs Taxa Máxima de Infecção\")\n",
    "plt.xlabel(\"Liberdade de Escolha\")\n",
    "plt.ylabel(\"Taxa Máxima de Infecção\")\n",
    "plt.show()"
   ]
  },
  {
   "cell_type": "markdown",
   "metadata": {},
   "source": [
    "## 6. Conclusão e Observações Finais\n",
    "\n",
    "### 6.1 Resumo do Notebook\n",
    "Este notebook fornece um guia passo a passo para analisar os dados da COVID-19 e explorar sua relação com as métricas globais de felicidade. Através da análise, foi possível:\n",
    "\n",
    "1. **Importar e preparar os dados** de casos confirmados e mortes por COVID-19.\n",
    "2. **Calcular métricas relevantes**, como a taxa máxima de infecção e mortes por país.\n",
    "3. **Integrar os dados da COVID-19** com o relatório de felicidade global.\n",
    "4. **Visualizar correlações** entre variáveis como PIB per capita, suporte social, expectativa de vida saudável e liberdade de escolha.\n",
    "\n",
    "### 6.2 Insights das Visualizações\n",
    "As visualizações ajudaram a entender melhor as correlações entre as variáveis. Por exemplo:\n",
    "- Países com maior **PIB per capita** tendem a ter taxas de infecção mais altas, possivelmente devido a maior capacidade de testagem e notificação de casos.\n",
    "- **Suporte social** e **expectativa de vida saudável** mostraram relações interessantes com as taxas de infecção, sugerindo que fatores sociais e de saúde pública podem influenciar a propagação do vírus.\n",
    "\n",
    "### 6.3 Matriz de Correlação\n",
    "A matriz de correlação final resume as relações entre todas as variáveis no dataset combinado. Ela é uma ferramenta valiosa para identificar padrões e insights que podem orientar políticas públicas e estratégias de saúde.\n",
    "\n",
    "### 6.4 Próximos Passos\n",
    "Para expandir essa análise, seria interessante:\n",
    "- Incluir dados de vacinação para avaliar o impacto das campanhas de imunização.\n",
    "- Explorar dados socioeconômicos adicionais, como desigualdade de renda e acesso à saúde.\n",
    "- Aplicar modelos de machine learning para prever taxas de infecção com base nas métricas de felicidade.\n",
    "\n"
   ]
  }
 ],
 "metadata": {
  "kernelspec": {
   "display_name": "Python 3",
   "language": "python",
   "name": "python3"
  },
  "language_info": {
   "codemirror_mode": {
    "name": "ipython",
    "version": 3
   },
   "file_extension": ".py",
   "mimetype": "text/x-python",
   "name": "python",
   "nbconvert_exporter": "python",
   "pygments_lexer": "ipython3",
   "version": "3.8.2"
  }
 },
 "nbformat": 4,
 "nbformat_minor": 2
}
